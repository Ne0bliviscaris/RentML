{
 "cells": [
  {
   "cell_type": "code",
   "execution_count": null,
   "metadata": {},
   "outputs": [],
   "source": [
    "# Moduł do przetwarzania wszystkich obrazów w folderze\n",
    "import os\n",
    "import streamlit_test2 as STtest2\n",
    "import shutil\n",
    "import ocr\n",
    "import detect_car as detect\n",
    "\n",
    "def process_all_images_in_folder(folder_path):\n",
    "    # Pobierz listę wszystkich plików w folderze\n",
    "    filenames = os.listdir(folder_path)\n",
    "\n",
    "    # Ustal ścieżki do folderów docelowych plików odrzuconych\n",
    "    unreadable_folder = '../RentML/dataset/training/unreadable'\n",
    "    multi_read_folder = '../RentML/dataset/training/multi_read'\n",
    "    os.makedirs(unreadable_folder, exist_ok=True)\n",
    "    os.makedirs(multi_read_folder, exist_ok=True)\n",
    "\n",
    "    \n",
    "    # Iteruj przez wszystkie pliki\n",
    "    for i, filename in enumerate(filenames, start=1):\n",
    "        # Tworzymy pełną ścieżkę do pliku\n",
    "        full_path = os.path.join(folder_path, filename)\n",
    "        \n",
    "        # Sprawdzamy, czy plik jest obrazem\n",
    "        if full_path.lower().endswith(('.png', '.jpg', '.jpeg')):\n",
    "            # Otwórz obraz\n",
    "            with open(full_path, 'rb') as f:\n",
    "                img_cv = STtest2.load_image(f)\n",
    "\n",
    "            # Przetwarzaj obraz\n",
    "            #preprocessed_img, mileage = STtest2.process_image(img_cv)\n",
    "                \n",
    "            # Wykonaj OCR\n",
    "            mileage = ocr.mileage_ocr(img_cv)\n",
    "            \n",
    "            # Zidentyfikuj samochód\n",
    "            car_type = detect.identify(full_path)\n",
    "\n",
    "            # Jeśli mileage jest None, przenieś plik do folderu unreadable\n",
    "            if mileage is None:\n",
    "                shutil.move(full_path, os.path.join(unreadable_folder, filename))\n",
    "                continue\n",
    "\n",
    "            # Jeśli mileage ma więcej niż jedną wartość, przenieś plik do folderu multi_read\n",
    "            if isinstance(mileage, list) and len(mileage) > 1:\n",
    "                shutil.move(full_path, os.path.join(multi_read_folder, filename))\n",
    "                continue\n",
    "\n",
    "            # Ekstrakcja i dodanie danych\n",
    "            STtest2.extract_and_append_data(full_path, mileage, car_type)\n",
    "\n",
    "            # Wyświetlanie danych\n",
    "            STtest2.load_and_display_data(full_path)\n",
    "\n",
    "            # Potwierdzenie wykonania pętli\n",
    "            print(f'Eroded image: {filename}, {i}/{len(filenames)}')\n",
    "\n",
    "# Wywołanie funkcji na folderze ze zdjęciami\n",
    "# Set divided into two folders\n",
    "process_all_images_in_folder('../RentML/dataset/training/Osobowy')\n",
    "process_all_images_in_folder('../RentML/dataset/training/Dostawczy')"
   ]
  },
  {
   "cell_type": "code",
   "execution_count": 5,
   "metadata": {},
   "outputs": [
    {
     "name": "stdout",
     "output_type": "stream",
     "text": [
      "[250284]\n",
      "[254410]\n",
      "[256163]\n",
      "[257050]\n"
     ]
    }
   ],
   "source": [
    "# Wczytaj dane z pliku mileage.json do DataFrame\n",
    "import pandas as pd\n",
    "import json\n",
    "\n",
    "try:\n",
    "    with open('mileage.json', 'r') as f:\n",
    "        data = json.load(f)\n",
    "        if data:\n",
    "            df = pd.DataFrame(data)\n",
    "            column_values = df.iloc[:, 3].tolist()\n",
    "            for value in column_values:\n",
    "            #for value in df:\n",
    "                print(value)\n",
    "        else:\n",
    "            print(\"The 'mileage.json' file is empty.\")\n",
    "except FileNotFoundError:\n",
    "    print(\"The 'mileage.json' file does not exist.\")\n",
    "except json.JSONDecodeError:\n",
    "    print(\"Error decoding JSON file.\")\n"
   ]
  },
  {
   "cell_type": "markdown",
   "metadata": {},
   "source": [
    "# WIPE JSON FILE - CAREFUL"
   ]
  },
  {
   "cell_type": "code",
   "execution_count": null,
   "metadata": {},
   "outputs": [],
   "source": [
    "# Wipe mileage.json file\n",
    "with open('mileage.json', 'w') as f:\n",
    "    pass"
   ]
  }
 ],
 "metadata": {
  "kernelspec": {
   "display_name": "Python 3",
   "language": "python",
   "name": "python3"
  },
  "language_info": {
   "codemirror_mode": {
    "name": "ipython",
    "version": 3
   },
   "file_extension": ".py",
   "mimetype": "text/x-python",
   "name": "python",
   "nbconvert_exporter": "python",
   "pygments_lexer": "ipython3",
   "version": "3.11.5"
  }
 },
 "nbformat": 4,
 "nbformat_minor": 2
}
