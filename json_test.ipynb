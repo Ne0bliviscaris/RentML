{
 "cells": [
  {
   "cell_type": "code",
   "execution_count": 1,
   "metadata": {},
   "outputs": [],
   "source": [
    "import json"
   ]
  },
  {
   "cell_type": "code",
   "execution_count": 3,
   "metadata": {},
   "outputs": [],
   "source": [
    "def append_to_json(filename, data):\n",
    "    # Wczytaj istniejące dane z pliku\n",
    "    try:\n",
    "        with open(filename, 'r') as f:\n",
    "            existing_data = json.load(f)\n",
    "    except (FileNotFoundError, json.JSONDecodeError):\n",
    "        existing_data = []\n",
    "\n",
    "    # Dodaj nowe dane do istniejących\n",
    "    existing_data.extend(data)\n",
    "\n",
    "    # Zapisz dane z powrotem do pliku\n",
    "    with open(filename, 'w') as f:\n",
    "        json.dump(existing_data, f)"
   ]
  },
  {
   "cell_type": "code",
   "execution_count": 10,
   "metadata": {},
   "outputs": [],
   "source": [
    "append_to_json('../RentML/mileage.json', [{'test': \"123456\"}])"
   ]
  },
  {
   "cell_type": "code",
   "execution_count": 11,
   "metadata": {},
   "outputs": [],
   "source": [
    "def read_record_in_json(filename, record_index):\n",
    "    # Wczytaj cały plik JSON do pamięci\n",
    "    with open(filename, 'r') as f:\n",
    "        data = json.load(f)\n",
    "\n",
    "    # Zwróć odpowiedni rekord\n",
    "    return data[record_index]"
   ]
  },
  {
   "cell_type": "code",
   "execution_count": 17,
   "metadata": {},
   "outputs": [
    {
     "name": "stdout",
     "output_type": "stream",
     "text": [
      "{'Filename': 'dataset\\\\20210829_210932.jpg'}\n"
     ]
    }
   ],
   "source": [
    "print(read_record_in_json('../RentML/mileage.json', 1))"
   ]
  }
 ],
 "metadata": {
  "kernelspec": {
   "display_name": "Python 3",
   "language": "python",
   "name": "python3"
  },
  "language_info": {
   "codemirror_mode": {
    "name": "ipython",
    "version": 3
   },
   "file_extension": ".py",
   "mimetype": "text/x-python",
   "name": "python",
   "nbconvert_exporter": "python",
   "pygments_lexer": "ipython3",
   "version": "3.11.5"
  }
 },
 "nbformat": 4,
 "nbformat_minor": 2
}
