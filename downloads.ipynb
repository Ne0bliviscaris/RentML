{
 "cells": [
  {
   "cell_type": "markdown",
   "metadata": {},
   "source": [
    "# List of steps to get the project going"
   ]
  },
  {
   "cell_type": "markdown",
   "metadata": {},
   "source": [
    "# 0. Libraries used in the project"
   ]
  },
  {
   "cell_type": "code",
   "execution_count": 21,
   "metadata": {},
   "outputs": [
    {
     "name": "stdout",
     "output_type": "stream",
     "text": [
      "torch is already installed\n",
      "pillow is already installed\n",
      "easyocr is already installed\n",
      "opencv-python is already installed\n",
      "numpy is already installed\n",
      "matplotlib is already installed\n",
      "pandas is already installed\n",
      "altair is already installed\n",
      "streamlit is already installed\n",
      "scikit-learn is already installed\n"
     ]
    }
   ],
   "source": [
    "import pkg_resources\n",
    "import subprocess\n",
    "import sys\n",
    "from typing import List\n",
    "\n",
    "def install_missing_libraries(required_libraries: List[str]) -> None:\n",
    "    \"\"\"\n",
    "    Check if the required libraries are installed. If not, install them.\n",
    "\n",
    "    Args:\n",
    "        required_libraries (List[str]): A list of required libraries.\n",
    "    \"\"\"\n",
    "    installed_packages = pkg_resources.working_set\n",
    "    installed_packages_list = sorted([\"%s==%s\" % (i.key, i.version) for i in installed_packages])\n",
    "    installed_libraries = [lib.split('==')[0] for lib in installed_packages_list]\n",
    "\n",
    "    for library in required_libraries:\n",
    "        if library not in installed_libraries:\n",
    "            print(f\"Installing missing library: {library}\")\n",
    "            subprocess.check_call([sys.executable, \"-m\", \"pip\", \"install\", library])\n",
    "        else:\n",
    "            print(f\"{library} is already installed\")\n",
    "\n",
    "required_libraries = ['torch', 'pillow', 'easyocr', 'opencv-python', 'numpy', 'matplotlib', 'pandas', 'altair', 'streamlit', 'scikit-learn']\n",
    "install_missing_libraries(required_libraries)"
   ]
  },
  {
   "cell_type": "markdown",
   "metadata": {},
   "source": [
    "# 1. Deep learning model for image recognition and main dataset (mandatory)"
   ]
  },
  {
   "cell_type": "code",
   "execution_count": 12,
   "metadata": {},
   "outputs": [
    {
     "name": "stderr",
     "output_type": "stream",
     "text": [
      "Downloading file: 100%|██████████| 93.0M/93.0M [00:02<00:00, 35.6MB/s]\n"
     ]
    },
    {
     "name": "stdout",
     "output_type": "stream",
     "text": [
      "Extracting file...\n",
      "Extraction completed\n"
     ]
    }
   ],
   "source": [
    "# Download and extract a ZIP file from a GitHub repository\n",
    "import requests\n",
    "import zipfile\n",
    "import io\n",
    "from tqdm import tqdm\n",
    "from typing import Optional\n",
    "\n",
    "def download_and_extract_zip(url: str, extract_to: Optional[str] = None) -> None:\n",
    "    \"\"\"\n",
    "    Download a ZIP file from a GitHub repository and extract it to a specified directory.\n",
    "\n",
    "    Args:\n",
    "        url (str): The URL of the ZIP file to download.\n",
    "        extract_to (Optional[str], optional): The directory to extract the ZIP file to. \n",
    "                                              If None, the ZIP file is extracted to the current directory. \n",
    "                                              Defaults to None.\n",
    "    \"\"\"\n",
    "    response = requests.get(url, stream=True)\n",
    "    total_size_in_bytes= int(response.headers.get('content-length', 0))\n",
    "    block_size = 1048576 #1 Kibibyte - 1mb\n",
    "    progress_bar = tqdm(total=total_size_in_bytes, unit='B', unit_scale=True, desc=\"Downloading file\")\n",
    "    content = bytes()\n",
    "    for data in response.iter_content(block_size):\n",
    "        progress_bar.update(len(data))\n",
    "        content += data\n",
    "    progress_bar.close()\n",
    "    if total_size_in_bytes != 0 and progress_bar.n != total_size_in_bytes:\n",
    "        print(\"ERROR, something went wrong while downloading the file\")\n",
    "\n",
    "    try:\n",
    "        with zipfile.ZipFile(io.BytesIO(content)) as z:\n",
    "            print(\"Extracting file...\")\n",
    "            z.extractall(extract_to)\n",
    "            print(\"Extraction completed\")\n",
    "    except zipfile.BadZipFile as e:\n",
    "        print(f\"BadZipFile error: {e}\")\n",
    "    except Exception as e:\n",
    "        print(f\"An error occurred: {e}\")\n",
    "\n",
    "download_and_extract_zip('https://github.com/Ne0bliviscaris/RentML/raw/downloads/recognition-model.zip')\n",
    "download_and_extract_zip('https://github.com/Ne0bliviscaris/RentML/raw/downloads/main-dataset.zip')"
   ]
  },
  {
   "cell_type": "markdown",
   "metadata": {},
   "source": [
    "# Restore JSON file backup - if anything starts malfunctioning"
   ]
  },
  {
   "cell_type": "code",
   "execution_count": null,
   "metadata": {},
   "outputs": [],
   "source": [
    "# Download and extract a ZIP file from a GitHub repository\n",
    "import requests\n",
    "import zipfile\n",
    "import io\n",
    "from tqdm import tqdm\n",
    "from typing import Optional\n",
    "\n",
    "def download_and_extract_zip(url: str, extract_to: Optional[str] = None) -> None:\n",
    "    \"\"\"\n",
    "    Download a ZIP file from a GitHub repository and extract it to a specified directory.\n",
    "\n",
    "    Args:\n",
    "        url (str): The URL of the ZIP file to download.\n",
    "        extract_to (Optional[str], optional): The directory to extract the ZIP file to. \n",
    "                                              If None, the ZIP file is extracted to the current directory. \n",
    "                                              Defaults to None.\n",
    "    \"\"\"\n",
    "    response = requests.get(url, stream=True)\n",
    "    total_size_in_bytes= int(response.headers.get('content-length', 0))\n",
    "    block_size = 1048576 #1 Kibibyte - 1mb\n",
    "    progress_bar = tqdm(total=total_size_in_bytes, unit='B', unit_scale=True, desc=\"Downloading file\")\n",
    "    content = bytes()\n",
    "    for data in response.iter_content(block_size):\n",
    "        progress_bar.update(len(data))\n",
    "        content += data\n",
    "    progress_bar.close()\n",
    "    if total_size_in_bytes != 0 and progress_bar.n != total_size_in_bytes:\n",
    "        print(\"ERROR, something went wrong while downloading the file\")\n",
    "\n",
    "    try:\n",
    "        with zipfile.ZipFile(io.BytesIO(content)) as z:\n",
    "            print(\"Extracting file...\")\n",
    "            z.extractall(extract_to)\n",
    "            print(\"Extraction completed\")\n",
    "    except zipfile.BadZipFile as e:\n",
    "        print(f\"BadZipFile error: {e}\")\n",
    "    except Exception as e:\n",
    "        print(f\"An error occurred: {e}\")\n",
    "\n",
    "download_and_extract_zip('https://github.com/Ne0bliviscaris/RentML/raw/downloads/json.zip')\n"
   ]
  },
  {
   "cell_type": "markdown",
   "metadata": {},
   "source": [
    "# 2. Optional dataset for re-training neural network model"
   ]
  },
  {
   "cell_type": "code",
   "execution_count": null,
   "metadata": {},
   "outputs": [],
   "source": [
    "# Download and extract a ZIP file from a GitHub repository\n",
    "download_and_extract_zip('https://github.com/Ne0bliviscaris/RentML/raw/downloads/training-dataset.zip')"
   ]
  }
 ],
 "metadata": {
  "kernelspec": {
   "display_name": "Python 3",
   "language": "python",
   "name": "python3"
  },
  "language_info": {
   "codemirror_mode": {
    "name": "ipython",
    "version": 3
   },
   "file_extension": ".py",
   "mimetype": "text/x-python",
   "name": "python",
   "nbconvert_exporter": "python",
   "pygments_lexer": "ipython3",
   "version": "3.11.5"
  }
 },
 "nbformat": 4,
 "nbformat_minor": 2
}
