{
 "cells": [
  {
   "cell_type": "markdown",
   "metadata": {},
   "source": [
    "# Set of tools to get the project going"
   ]
  },
  {
   "cell_type": "markdown",
   "metadata": {},
   "source": [
    "# 1. Deep learning model for image recognition"
   ]
  },
  {
   "cell_type": "code",
   "execution_count": 11,
   "metadata": {},
   "outputs": [
    {
     "name": "stderr",
     "output_type": "stream",
     "text": [
      "Downloading file: 100%|██████████| 93.0M/93.0M [00:02<00:00, 35.3MMB/s]\n"
     ]
    },
    {
     "name": "stdout",
     "output_type": "stream",
     "text": [
      "Extracting file...\n",
      "Extraction completed\n"
     ]
    }
   ],
   "source": [
    "# Download and extract a ZIP file from a GitHub repository\n",
    "import requests\n",
    "import zipfile\n",
    "import io\n",
    "from tqdm import tqdm\n",
    "from typing import Optional\n",
    "\n",
    "def download_and_extract_zip(url: str, extract_to: Optional[str] = None) -> None:\n",
    "    \"\"\"\n",
    "    Download a ZIP file from a GitHub repository and extract it to a specified directory.\n",
    "\n",
    "    Args:\n",
    "        url (str): The URL of the ZIP file to download.\n",
    "        extract_to (Optional[str], optional): The directory to extract the ZIP file to. \n",
    "                                              If None, the ZIP file is extracted to the current directory. \n",
    "                                              Defaults to None.\n",
    "    \"\"\"\n",
    "    response = requests.get(url, stream=True)\n",
    "    total_size_in_bytes= int(response.headers.get('content-length', 0))\n",
    "    block_size = 1048576 #1 Kibibyte - 1mb\n",
    "    progress_bar = tqdm(total=total_size_in_bytes, unit='B', unit_scale=True, desc=\"Downloading file\")\n",
    "    content = bytes()\n",
    "    for data in response.iter_content(block_size):\n",
    "        progress_bar.update(len(data))\n",
    "        content += data\n",
    "    progress_bar.close()\n",
    "    if total_size_in_bytes != 0 and progress_bar.n != total_size_in_bytes:\n",
    "        print(\"ERROR, something went wrong while downloading the file\")\n",
    "\n",
    "    try:\n",
    "        with zipfile.ZipFile(io.BytesIO(content)) as z:\n",
    "            print(\"Extracting file...\")\n",
    "            z.extractall(extract_to)\n",
    "            print(\"Extraction completed\")\n",
    "    except zipfile.BadZipFile as e:\n",
    "        print(f\"BadZipFile error: {e}\")\n",
    "    except Exception as e:\n",
    "        print(f\"An error occurred: {e}\")\n",
    "\n",
    "download_and_extract_zip('https://github.com/Ne0bliviscaris/RentML/raw/main/detect_car.zip')"
   ]
  },
  {
   "cell_type": "code",
   "execution_count": 8,
   "metadata": {},
   "outputs": [
    {
     "name": "stderr",
     "output_type": "stream",
     "text": [
      "Downloading file:  32%|███▏      | 29.4M/93.0M [01:40<06:22, 166kiB/s]"
     ]
    }
   ],
   "source": [
    "import requests\n",
    "import zipfile\n",
    "import io\n",
    "from typing import Optional\n",
    "\n",
    "def download_and_extract_zip(url: str, extract_to: Optional[str] = None) -> None:\n",
    "    \"\"\"\n",
    "    Download a ZIP file from a GitHub repository and extract it to a specified directory.\n",
    "\n",
    "    Args:\n",
    "        url (str): The URL of the ZIP file to download.\n",
    "        extract_to (Optional[str], optional): The directory to extract the ZIP file to. \n",
    "                                              If None, the ZIP file is extracted to the current directory. \n",
    "                                              Defaults to None.\n",
    "    \"\"\"\n",
    "    try:\n",
    "        response = requests.get(url)\n",
    "        with zipfile.ZipFile(io.BytesIO(response.content)) as z:\n",
    "            z.extractall(extract_to)\n",
    "    except zipfile.BadZipFile as e:\n",
    "        print(f\"BadZipFile error: {e}\")\n",
    "    except Exception as e:\n",
    "        print(f\"An error occurred: {e}\")\n",
    "\n",
    "download_and_extract_zip('https://github.com/Ne0bliviscaris/RentML/raw/main/detect_car.zip')"
   ]
  }
 ],
 "metadata": {
  "kernelspec": {
   "display_name": "Python 3",
   "language": "python",
   "name": "python3"
  },
  "language_info": {
   "codemirror_mode": {
    "name": "ipython",
    "version": 3
   },
   "file_extension": ".py",
   "mimetype": "text/x-python",
   "name": "python",
   "nbconvert_exporter": "python",
   "pygments_lexer": "ipython3",
   "version": "3.11.5"
  }
 },
 "nbformat": 4,
 "nbformat_minor": 2
}
