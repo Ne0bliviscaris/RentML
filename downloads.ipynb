{
 "cells": [
  {
   "cell_type": "markdown",
   "metadata": {},
   "source": [
    "# Set of tools to get the project going"
   ]
  },
  {
   "cell_type": "markdown",
   "metadata": {},
   "source": [
    "Deep learning model for image recognition"
   ]
  },
  {
   "cell_type": "code",
   "execution_count": null,
   "metadata": {},
   "outputs": [],
   "source": [
    "import requests\n",
    "import zipfile\n",
    "import io\n",
    "from typing import Optional\n",
    "\n",
    "def download_and_extract_zip(url: str, extract_to: Optional[str] = None) -> None:\n",
    "    \"\"\"\n",
    "    Download a ZIP file from a GitHub repository and extract it to a specified directory.\n",
    "\n",
    "    Args:\n",
    "        url (str): The URL of the ZIP file to download.\n",
    "        extract_to (Optional[str], optional): The directory to extract the ZIP file to. \n",
    "                                              If None, the ZIP file is extracted to the current directory. \n",
    "                                              Defaults to None.\n",
    "    \"\"\"\n",
    "    response = requests.get(url)\n",
    "    with zipfile.ZipFile(io.BytesIO(response.content)) as z:\n",
    "        z.extractall(extract_to)\n",
    "\n",
    "download_and_extract_zip('https://github.com/username/repo/archive/main.zip', '../')"
   ]
  }
 ],
 "metadata": {
  "language_info": {
   "name": "python"
  }
 },
 "nbformat": 4,
 "nbformat_minor": 2
}
